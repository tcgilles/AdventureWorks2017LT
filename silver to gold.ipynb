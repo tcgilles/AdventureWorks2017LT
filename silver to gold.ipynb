{
 "cells": [
  {
   "cell_type": "code",
   "execution_count": 0,
   "metadata": {
    "application/vnd.databricks.v1+cell": {
     "cellMetadata": {
      "byteLimit": 2048000,
      "rowLimit": 10000
     },
     "inputWidgets": {},
     "nuid": "06074590-5a5d-4c20-8155-aa1b719edd7a",
     "showTitle": false,
     "title": ""
    }
   },
   "outputs": [],
   "source": [
    "from pyspark.sql.functions import *\n",
    "from pyspark.sql.types import *"
   ]
  },
  {
   "cell_type": "code",
   "execution_count": 0,
   "metadata": {
    "application/vnd.databricks.v1+cell": {
     "cellMetadata": {
      "byteLimit": 2048000,
      "rowLimit": 10000
     },
     "inputWidgets": {},
     "nuid": "b30ad53b-44d0-40ae-9d05-7b9394612b63",
     "showTitle": false,
     "title": ""
    }
   },
   "outputs": [
    {
     "output_type": "stream",
     "name": "stdout",
     "output_type": "stream",
     "text": [
      "Out[11]: [FileInfo(path='dbfs:/mnt/silver/SalesLT/Address/', name='Address/', size=0, modificationTime=1694630328000),\n FileInfo(path='dbfs:/mnt/silver/SalesLT/Customer/', name='Customer/', size=0, modificationTime=1694630340000),\n FileInfo(path='dbfs:/mnt/silver/SalesLT/CustomerAddress/', name='CustomerAddress/', size=0, modificationTime=1694630344000),\n FileInfo(path='dbfs:/mnt/silver/SalesLT/Product/', name='Product/', size=0, modificationTime=1694630349000),\n FileInfo(path='dbfs:/mnt/silver/SalesLT/ProductCategory/', name='ProductCategory/', size=0, modificationTime=1694630352000),\n FileInfo(path='dbfs:/mnt/silver/SalesLT/ProductDescription/', name='ProductDescription/', size=0, modificationTime=1694630356000),\n FileInfo(path='dbfs:/mnt/silver/SalesLT/ProductModel/', name='ProductModel/', size=0, modificationTime=1694630358000),\n FileInfo(path='dbfs:/mnt/silver/SalesLT/ProductModelProductDescription/', name='ProductModelProductDescription/', size=0, modificationTime=1694630361000),\n FileInfo(path='dbfs:/mnt/silver/SalesLT/SalesOrderDetail/', name='SalesOrderDetail/', size=0, modificationTime=1694630364000),\n FileInfo(path='dbfs:/mnt/silver/SalesLT/SalesOrderHeader/', name='SalesOrderHeader/', size=0, modificationTime=1694630367000)]"
     ]
    }
   ],
   "source": [
    "dbutils.fs.ls(\"/mnt/silver/SalesLT\")"
   ]
  },
  {
   "cell_type": "markdown",
   "metadata": {
    "application/vnd.databricks.v1+cell": {
     "cellMetadata": {
      "byteLimit": 2048000,
      "rowLimit": 10000
     },
     "inputWidgets": {},
     "nuid": "0d964960-72e1-48e7-83eb-74b44cec75d7",
     "showTitle": false,
     "title": ""
    }
   },
   "source": [
    "## Doing transformation for all tables (Changing column names)"
   ]
  },
  {
   "cell_type": "code",
   "execution_count": 0,
   "metadata": {
    "application/vnd.databricks.v1+cell": {
     "cellMetadata": {
      "byteLimit": 2048000,
      "rowLimit": 10000
     },
     "inputWidgets": {},
     "nuid": "e2616211-41b3-4456-993b-db61492fbc77",
     "showTitle": false,
     "title": ""
    }
   },
   "outputs": [],
   "source": [
    "table_name = []\n",
    "for i in dbutils.fs.ls(\"/mnt/silver/SalesLT\"):\n",
    "    table_name.append(i.name.split(\"/\")[0])"
   ]
  },
  {
   "cell_type": "code",
   "execution_count": 0,
   "metadata": {
    "application/vnd.databricks.v1+cell": {
     "cellMetadata": {
      "byteLimit": 2048000,
      "rowLimit": 10000
     },
     "inputWidgets": {},
     "nuid": "c841838a-bcff-44b3-bbc0-224c7a71c6cf",
     "showTitle": false,
     "title": ""
    }
   },
   "outputs": [
    {
     "output_type": "stream",
     "name": "stdout",
     "output_type": "stream",
     "text": [
      "Out[13]: ['Address',\n 'Customer',\n 'CustomerAddress',\n 'Product',\n 'ProductCategory',\n 'ProductDescription',\n 'ProductModel',\n 'ProductModelProductDescription',\n 'SalesOrderDetail',\n 'SalesOrderHeader']"
     ]
    }
   ],
   "source": [
    "table_name"
   ]
  },
  {
   "cell_type": "code",
   "execution_count": 0,
   "metadata": {
    "application/vnd.databricks.v1+cell": {
     "cellMetadata": {
      "byteLimit": 2048000,
      "rowLimit": 10000
     },
     "inputWidgets": {},
     "nuid": "005c5530-4a85-489d-9a85-d4601dfb9d77",
     "showTitle": false,
     "title": ""
    }
   },
   "outputs": [],
   "source": [
    "for name in table_name:\n",
    "    input_path = \"/mnt/silver/SalesLT/\" + name\n",
    "    df = spark.read.format(\"delta\").load(input_path)\n",
    "\n",
    "    # Get the list of columns of the dataframe\n",
    "    columns = df.columns\n",
    "\n",
    "    for col in columns:\n",
    "        # Convert ColumnName to Column_Name format\n",
    "        new_col = \"\".join([\"_\"+char if char.isupper() and not col[i-1].isupper() else char for i, char in enumerate(col)]).lstrip(\"_\")\n",
    "\n",
    "        # Change the column name\n",
    "        df = df.withColumnRenamed(col, new_col)\n",
    "\n",
    "    output_path = \"/mnt/gold/SalesLT/\" + name + \"/\"\n",
    "    df.write.format(\"delta\").mode(\"overwrite\").save(output_path)"
   ]
  },
  {
   "cell_type": "code",
   "execution_count": 0,
   "metadata": {
    "application/vnd.databricks.v1+cell": {
     "cellMetadata": {
      "byteLimit": 2048000,
      "rowLimit": 10000
     },
     "inputWidgets": {},
     "nuid": "4012854c-a599-4917-85c4-25e8edba8cf7",
     "showTitle": false,
     "title": ""
    }
   },
   "outputs": [
    {
     "output_type": "display_data",
     "data": {
      "text/html": [
       "<style scoped>\n",
       "  .table-result-container {\n",
       "    max-height: 300px;\n",
       "    overflow: auto;\n",
       "  }\n",
       "  table, th, td {\n",
       "    border: 1px solid black;\n",
       "    border-collapse: collapse;\n",
       "  }\n",
       "  th, td {\n",
       "    padding: 5px;\n",
       "  }\n",
       "  th {\n",
       "    text-align: left;\n",
       "  }\n",
       "</style><div class='table-result-container'><table class='table-result'><thead style='background-color: white'><tr><th>Sales_Order_ID</th><th>Revision_Number</th><th>Order_Date</th><th>Due_Date</th><th>Ship_Date</th><th>Status</th><th>Online_Order_Flag</th><th>Sales_Order_Number</th><th>Purchase_Order_Number</th><th>Account_Number</th><th>Customer_ID</th><th>Ship_To_Address_ID</th><th>Bill_To_Address_ID</th><th>Ship_Method</th><th>Credit_Card_Approval_Code</th><th>Sub_Total</th><th>Tax_Amt</th><th>Freight</th><th>Total_Due</th><th>Comment</th><th>rowguid</th><th>Modified_Date</th></tr></thead><tbody><tr><td>71774</td><td>2</td><td>2008-06-01</td><td>2008-06-13</td><td>2008-06-08</td><td>5</td><td>false</td><td>SO71774</td><td>PO348186287</td><td>10-4020-000609</td><td>29847</td><td>1092</td><td>1092</td><td>CARGO TRANSPORT 5</td><td>null</td><td>880.3484</td><td>70.4279</td><td>22.0087</td><td>972.7850</td><td>null</td><td>89e42cdc-8506-48a2-b89b-eb3e64e3554e</td><td>2008-06-08</td></tr><tr><td>71776</td><td>2</td><td>2008-06-01</td><td>2008-06-13</td><td>2008-06-08</td><td>5</td><td>false</td><td>SO71776</td><td>PO19952192051</td><td>10-4020-000106</td><td>30072</td><td>640</td><td>640</td><td>CARGO TRANSPORT 5</td><td>null</td><td>78.8100</td><td>6.3048</td><td>1.9703</td><td>87.0851</td><td>null</td><td>8a3448c5-e677-4158-a29b-dd33069be0b0</td><td>2008-06-08</td></tr><tr><td>71780</td><td>2</td><td>2008-06-01</td><td>2008-06-13</td><td>2008-06-08</td><td>5</td><td>false</td><td>SO71780</td><td>PO19604173239</td><td>10-4020-000340</td><td>30113</td><td>653</td><td>653</td><td>CARGO TRANSPORT 5</td><td>null</td><td>38418.6895</td><td>3073.4952</td><td>960.4672</td><td>42452.6519</td><td>null</td><td>a47665d2-7ac9-4cf3-8a8b-2a3883554284</td><td>2008-06-08</td></tr><tr><td>71782</td><td>2</td><td>2008-06-01</td><td>2008-06-13</td><td>2008-06-08</td><td>5</td><td>false</td><td>SO71782</td><td>PO19372114749</td><td>10-4020-000582</td><td>29485</td><td>1086</td><td>1086</td><td>CARGO TRANSPORT 5</td><td>null</td><td>39785.3304</td><td>3182.8264</td><td>994.6333</td><td>43962.7901</td><td>null</td><td>f1be45a5-5c57-4a50-93c6-5f8be44cb7cb</td><td>2008-06-08</td></tr><tr><td>71783</td><td>2</td><td>2008-06-01</td><td>2008-06-13</td><td>2008-06-08</td><td>5</td><td>false</td><td>SO71783</td><td>PO19343113609</td><td>10-4020-000024</td><td>29957</td><td>992</td><td>992</td><td>CARGO TRANSPORT 5</td><td>null</td><td>83858.4261</td><td>6708.6741</td><td>2096.4607</td><td>92663.5609</td><td>null</td><td>7db2329e-6446-42a8-8915-9c8370b68ed8</td><td>2008-06-08</td></tr><tr><td>71784</td><td>2</td><td>2008-06-01</td><td>2008-06-13</td><td>2008-06-08</td><td>5</td><td>false</td><td>SO71784</td><td>PO19285135919</td><td>10-4020-000448</td><td>29736</td><td>659</td><td>659</td><td>CARGO TRANSPORT 5</td><td>null</td><td>108561.8317</td><td>8684.9465</td><td>2714.0458</td><td>119960.8240</td><td>null</td><td>ca31f324-2c32-4f8d-95eb-596e7f343027</td><td>2008-06-08</td></tr><tr><td>71796</td><td>2</td><td>2008-06-01</td><td>2008-06-13</td><td>2008-06-08</td><td>5</td><td>false</td><td>SO71796</td><td>PO17052159664</td><td>10-4020-000420</td><td>29660</td><td>1058</td><td>1058</td><td>CARGO TRANSPORT 5</td><td>null</td><td>57634.6342</td><td>4610.7707</td><td>1440.8659</td><td>63686.2708</td><td>null</td><td>917ef5ba-f32d-4563-8588-66db0bcdc846</td><td>2008-06-08</td></tr><tr><td>71797</td><td>2</td><td>2008-06-01</td><td>2008-06-13</td><td>2008-06-08</td><td>5</td><td>false</td><td>SO71797</td><td>PO16501134889</td><td>10-4020-000142</td><td>29796</td><td>642</td><td>642</td><td>CARGO TRANSPORT 5</td><td>null</td><td>78029.6898</td><td>6242.3752</td><td>1950.7422</td><td>86222.8072</td><td>null</td><td>bb3fee84-c8bf-4dd2-bcca-675ab6a11c38</td><td>2008-06-08</td></tr><tr><td>71815</td><td>2</td><td>2008-06-01</td><td>2008-06-13</td><td>2008-06-08</td><td>5</td><td>false</td><td>SO71815</td><td>PO13021155785</td><td>10-4020-000276</td><td>30089</td><td>1034</td><td>1034</td><td>CARGO TRANSPORT 5</td><td>null</td><td>1141.5782</td><td>91.3263</td><td>28.5395</td><td>1261.4440</td><td>null</td><td>2aa5f39b-1096-4a4b-b17b-f10504a397ce</td><td>2008-06-08</td></tr><tr><td>71816</td><td>2</td><td>2008-06-01</td><td>2008-06-13</td><td>2008-06-08</td><td>5</td><td>false</td><td>SO71816</td><td>PO12992180445</td><td>10-4020-000295</td><td>30027</td><td>1038</td><td>1038</td><td>CARGO TRANSPORT 5</td><td>null</td><td>3398.1659</td><td>271.8533</td><td>84.9541</td><td>3754.9733</td><td>null</td><td>e3c189e7-98de-4c40-b6c2-0d1d13f9bb33</td><td>2008-06-08</td></tr></tbody></table></div>"
      ]
     },
     "metadata": {
      "application/vnd.databricks.v1+output": {
       "addedWidgets": {},
       "aggData": [],
       "aggError": "",
       "aggOverflow": false,
       "aggSchema": [],
       "aggSeriesLimitReached": false,
       "aggType": "",
       "arguments": {},
       "columnCustomDisplayInfos": {},
       "data": [
        [
         71774,
         2,
         "2008-06-01",
         "2008-06-13",
         "2008-06-08",
         5,
         false,
         "SO71774",
         "PO348186287",
         "10-4020-000609",
         29847,
         1092,
         1092,
         "CARGO TRANSPORT 5",
         null,
         "880.3484",
         "70.4279",
         "22.0087",
         "972.7850",
         null,
         "89e42cdc-8506-48a2-b89b-eb3e64e3554e",
         "2008-06-08"
        ],
        [
         71776,
         2,
         "2008-06-01",
         "2008-06-13",
         "2008-06-08",
         5,
         false,
         "SO71776",
         "PO19952192051",
         "10-4020-000106",
         30072,
         640,
         640,
         "CARGO TRANSPORT 5",
         null,
         "78.8100",
         "6.3048",
         "1.9703",
         "87.0851",
         null,
         "8a3448c5-e677-4158-a29b-dd33069be0b0",
         "2008-06-08"
        ],
        [
         71780,
         2,
         "2008-06-01",
         "2008-06-13",
         "2008-06-08",
         5,
         false,
         "SO71780",
         "PO19604173239",
         "10-4020-000340",
         30113,
         653,
         653,
         "CARGO TRANSPORT 5",
         null,
         "38418.6895",
         "3073.4952",
         "960.4672",
         "42452.6519",
         null,
         "a47665d2-7ac9-4cf3-8a8b-2a3883554284",
         "2008-06-08"
        ],
        [
         71782,
         2,
         "2008-06-01",
         "2008-06-13",
         "2008-06-08",
         5,
         false,
         "SO71782",
         "PO19372114749",
         "10-4020-000582",
         29485,
         1086,
         1086,
         "CARGO TRANSPORT 5",
         null,
         "39785.3304",
         "3182.8264",
         "994.6333",
         "43962.7901",
         null,
         "f1be45a5-5c57-4a50-93c6-5f8be44cb7cb",
         "2008-06-08"
        ],
        [
         71783,
         2,
         "2008-06-01",
         "2008-06-13",
         "2008-06-08",
         5,
         false,
         "SO71783",
         "PO19343113609",
         "10-4020-000024",
         29957,
         992,
         992,
         "CARGO TRANSPORT 5",
         null,
         "83858.4261",
         "6708.6741",
         "2096.4607",
         "92663.5609",
         null,
         "7db2329e-6446-42a8-8915-9c8370b68ed8",
         "2008-06-08"
        ],
        [
         71784,
         2,
         "2008-06-01",
         "2008-06-13",
         "2008-06-08",
         5,
         false,
         "SO71784",
         "PO19285135919",
         "10-4020-000448",
         29736,
         659,
         659,
         "CARGO TRANSPORT 5",
         null,
         "108561.8317",
         "8684.9465",
         "2714.0458",
         "119960.8240",
         null,
         "ca31f324-2c32-4f8d-95eb-596e7f343027",
         "2008-06-08"
        ],
        [
         71796,
         2,
         "2008-06-01",
         "2008-06-13",
         "2008-06-08",
         5,
         false,
         "SO71796",
         "PO17052159664",
         "10-4020-000420",
         29660,
         1058,
         1058,
         "CARGO TRANSPORT 5",
         null,
         "57634.6342",
         "4610.7707",
         "1440.8659",
         "63686.2708",
         null,
         "917ef5ba-f32d-4563-8588-66db0bcdc846",
         "2008-06-08"
        ],
        [
         71797,
         2,
         "2008-06-01",
         "2008-06-13",
         "2008-06-08",
         5,
         false,
         "SO71797",
         "PO16501134889",
         "10-4020-000142",
         29796,
         642,
         642,
         "CARGO TRANSPORT 5",
         null,
         "78029.6898",
         "6242.3752",
         "1950.7422",
         "86222.8072",
         null,
         "bb3fee84-c8bf-4dd2-bcca-675ab6a11c38",
         "2008-06-08"
        ],
        [
         71815,
         2,
         "2008-06-01",
         "2008-06-13",
         "2008-06-08",
         5,
         false,
         "SO71815",
         "PO13021155785",
         "10-4020-000276",
         30089,
         1034,
         1034,
         "CARGO TRANSPORT 5",
         null,
         "1141.5782",
         "91.3263",
         "28.5395",
         "1261.4440",
         null,
         "2aa5f39b-1096-4a4b-b17b-f10504a397ce",
         "2008-06-08"
        ],
        [
         71816,
         2,
         "2008-06-01",
         "2008-06-13",
         "2008-06-08",
         5,
         false,
         "SO71816",
         "PO12992180445",
         "10-4020-000295",
         30027,
         1038,
         1038,
         "CARGO TRANSPORT 5",
         null,
         "3398.1659",
         "271.8533",
         "84.9541",
         "3754.9733",
         null,
         "e3c189e7-98de-4c40-b6c2-0d1d13f9bb33",
         "2008-06-08"
        ]
       ],
       "datasetInfos": [],
       "dbfsResultPath": null,
       "isJsonSchema": true,
       "metadata": {},
       "overflow": false,
       "plotOptions": {
        "customPlotOptions": {},
        "displayType": "table",
        "pivotAggregation": null,
        "pivotColumns": null,
        "xColumns": null,
        "yColumns": null
       },
       "removedWidgets": [],
       "schema": [
        {
         "metadata": "{}",
         "name": "Sales_Order_ID",
         "type": "\"integer\""
        },
        {
         "metadata": "{}",
         "name": "Revision_Number",
         "type": "\"integer\""
        },
        {
         "metadata": "{}",
         "name": "Order_Date",
         "type": "\"string\""
        },
        {
         "metadata": "{}",
         "name": "Due_Date",
         "type": "\"string\""
        },
        {
         "metadata": "{}",
         "name": "Ship_Date",
         "type": "\"string\""
        },
        {
         "metadata": "{}",
         "name": "Status",
         "type": "\"integer\""
        },
        {
         "metadata": "{}",
         "name": "Online_Order_Flag",
         "type": "\"boolean\""
        },
        {
         "metadata": "{}",
         "name": "Sales_Order_Number",
         "type": "\"string\""
        },
        {
         "metadata": "{}",
         "name": "Purchase_Order_Number",
         "type": "\"string\""
        },
        {
         "metadata": "{}",
         "name": "Account_Number",
         "type": "\"string\""
        },
        {
         "metadata": "{}",
         "name": "Customer_ID",
         "type": "\"integer\""
        },
        {
         "metadata": "{}",
         "name": "Ship_To_Address_ID",
         "type": "\"integer\""
        },
        {
         "metadata": "{}",
         "name": "Bill_To_Address_ID",
         "type": "\"integer\""
        },
        {
         "metadata": "{}",
         "name": "Ship_Method",
         "type": "\"string\""
        },
        {
         "metadata": "{}",
         "name": "Credit_Card_Approval_Code",
         "type": "\"string\""
        },
        {
         "metadata": "{}",
         "name": "Sub_Total",
         "type": "\"decimal(19,4)\""
        },
        {
         "metadata": "{}",
         "name": "Tax_Amt",
         "type": "\"decimal(19,4)\""
        },
        {
         "metadata": "{}",
         "name": "Freight",
         "type": "\"decimal(19,4)\""
        },
        {
         "metadata": "{}",
         "name": "Total_Due",
         "type": "\"decimal(19,4)\""
        },
        {
         "metadata": "{}",
         "name": "Comment",
         "type": "\"string\""
        },
        {
         "metadata": "{}",
         "name": "rowguid",
         "type": "\"string\""
        },
        {
         "metadata": "{}",
         "name": "Modified_Date",
         "type": "\"string\""
        }
       ],
       "type": "table"
      }
     },
     "output_type": "display_data"
    }
   ],
   "source": [
    "display(df.limit(10))"
   ]
  },
  {
   "cell_type": "code",
   "execution_count": 0,
   "metadata": {
    "application/vnd.databricks.v1+cell": {
     "cellMetadata": {},
     "inputWidgets": {},
     "nuid": "6295c68f-44ee-4ab4-9143-fb64b95f8ea7",
     "showTitle": false,
     "title": ""
    }
   },
   "outputs": [],
   "source": []
  }
 ],
 "metadata": {
  "application/vnd.databricks.v1+notebook": {
   "dashboards": [],
   "language": "python",
   "notebookMetadata": {
    "pythonIndentUnit": 4
   },
   "notebookName": "silver to gold",
   "widgets": {}
  }
 },
 "nbformat": 4,
 "nbformat_minor": 0
}
