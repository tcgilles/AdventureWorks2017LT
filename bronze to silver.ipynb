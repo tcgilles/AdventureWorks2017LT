{
 "cells": [
  {
   "cell_type": "code",
   "execution_count": 0,
   "metadata": {
    "application/vnd.databricks.v1+cell": {
     "cellMetadata": {
      "byteLimit": 2048000,
      "rowLimit": 10000
     },
     "inputWidgets": {},
     "nuid": "6bb39b5b-e4f3-46c0-9d12-8d44a64de8ac",
     "showTitle": false,
     "title": ""
    }
   },
   "outputs": [],
   "source": [
    "from pyspark.sql.functions import *\n",
    "from pyspark.sql.types import *"
   ]
  },
  {
   "cell_type": "code",
   "execution_count": 0,
   "metadata": {
    "application/vnd.databricks.v1+cell": {
     "cellMetadata": {
      "byteLimit": 2048000,
      "rowLimit": 10000
     },
     "inputWidgets": {},
     "nuid": "75ac8acc-0a2d-4e5b-9aac-1362834234d4",
     "showTitle": false,
     "title": ""
    }
   },
   "outputs": [
    {
     "output_type": "stream",
     "name": "stdout",
     "output_type": "stream",
     "text": [
      "Out[17]: [FileInfo(path='dbfs:/mnt/bronze/SalesLT/Address/', name='Address/', size=0, modificationTime=1694620312000),\n FileInfo(path='dbfs:/mnt/bronze/SalesLT/Customer/', name='Customer/', size=0, modificationTime=1694620299000),\n FileInfo(path='dbfs:/mnt/bronze/SalesLT/CustomerAddress/', name='CustomerAddress/', size=0, modificationTime=1694620322000),\n FileInfo(path='dbfs:/mnt/bronze/SalesLT/Product/', name='Product/', size=0, modificationTime=1694620299000),\n FileInfo(path='dbfs:/mnt/bronze/SalesLT/ProductCategory/', name='ProductCategory/', size=0, modificationTime=1694620299000),\n FileInfo(path='dbfs:/mnt/bronze/SalesLT/ProductDescription/', name='ProductDescription/', size=0, modificationTime=1694620322000),\n FileInfo(path='dbfs:/mnt/bronze/SalesLT/ProductModel/', name='ProductModel/', size=0, modificationTime=1694620297000),\n FileInfo(path='dbfs:/mnt/bronze/SalesLT/ProductModelProductDescription/', name='ProductModelProductDescription/', size=0, modificationTime=1694620323000),\n FileInfo(path='dbfs:/mnt/bronze/SalesLT/SalesOrderDetail/', name='SalesOrderDetail/', size=0, modificationTime=1694620341000),\n FileInfo(path='dbfs:/mnt/bronze/SalesLT/SalesOrderHeader/', name='SalesOrderHeader/', size=0, modificationTime=1694620325000)]"
     ]
    }
   ],
   "source": [
    "dbutils.fs.ls(\"mnt/bronze/SalesLT/\")"
   ]
  },
  {
   "cell_type": "code",
   "execution_count": 0,
   "metadata": {
    "application/vnd.databricks.v1+cell": {
     "cellMetadata": {
      "byteLimit": 2048000,
      "rowLimit": 10000
     },
     "inputWidgets": {},
     "nuid": "b83225b2-69a6-417f-9ac3-a8265e7cbd7c",
     "showTitle": false,
     "title": ""
    }
   },
   "outputs": [
    {
     "output_type": "stream",
     "name": "stdout",
     "output_type": "stream",
     "text": [
      "Out[18]: []"
     ]
    }
   ],
   "source": [
    "dbutils.fs.ls(\"mnt/silver/\")"
   ]
  },
  {
   "cell_type": "code",
   "execution_count": 0,
   "metadata": {
    "application/vnd.databricks.v1+cell": {
     "cellMetadata": {
      "byteLimit": 2048000,
      "rowLimit": 10000
     },
     "inputWidgets": {},
     "nuid": "0d4a0f55-1999-4130-b644-0c9ee3c2ba9f",
     "showTitle": false,
     "title": ""
    }
   },
   "outputs": [],
   "source": [
    "input_path = \"/mnt/bronze/SalesLT/Address\""
   ]
  },
  {
   "cell_type": "code",
   "execution_count": 0,
   "metadata": {
    "application/vnd.databricks.v1+cell": {
     "cellMetadata": {
      "byteLimit": 2048000,
      "rowLimit": 10000
     },
     "inputWidgets": {},
     "nuid": "f6d79c17-5c1f-4f2e-9ddc-8b4b3fee9372",
     "showTitle": false,
     "title": ""
    }
   },
   "outputs": [
    {
     "output_type": "stream",
     "name": "stdout",
     "output_type": "stream",
     "text": [
      "+---------+-------------------+------------+--------+----------------+-------------+----------+--------------------+-------------------+\n|AddressID|       AddressLine1|AddressLine2|    City|   StateProvince|CountryRegion|PostalCode|             rowguid|       ModifiedDate|\n+---------+-------------------+------------+--------+----------------+-------------+----------+--------------------+-------------------+\n|        9|  8713 Yosemite Ct.|        null| Bothell|      Washington|United States|     98011|268af621-76d7-4c7...|2006-07-01 00:00:00|\n|       11|1318 Lasalle Street|        null| Bothell|      Washington|United States|     98011|981b3303-aca2-49c...|2007-04-01 00:00:00|\n|       25|   9178 Jumping St.|        null|  Dallas|           Texas|United States|     75201|c8df3bd9-48f0-465...|2006-09-01 00:00:00|\n|       28|   9228 Via Del Sol|        null| Phoenix|         Arizona|United States|     85004|12ae5ee1-fc3e-468...|2005-09-01 00:00:00|\n|       32|  26910 Indela Road|        null|Montreal|          Quebec|       Canada|   H1Y 2H5|84a95f62-3ae8-4e7...|2006-08-01 00:00:00|\n|      185|    2681 Eagle Peak|        null|Bellevue|      Washington|United States|     98004|7bccf442-2268-46c...|2006-09-01 00:00:00|\n|      297|    7943 Walnut Ave|        null|  Renton|      Washington|United States|     98055|52410da4-2778-4b1...|2006-08-01 00:00:00|\n|      445| 6388 Lake City Way|        null| Burnaby|British Columbia|       Canada|   V5A 3A6|53572f25-9133-4a8...|2006-09-01 00:00:00|\n|      446|  52560 Free Street|        null| Toronto|         Ontario|       Canada|   M4B 1V7|801a1dfc-5125-486...|2005-08-01 00:00:00|\n|      447|  22580 Free Street|        null| Toronto|         Ontario|       Canada|   M4B 1V7|88cee379-dbb8-433...|2006-08-01 00:00:00|\n+---------+-------------------+------------+--------+----------------+-------------+----------+--------------------+-------------------+\nonly showing top 10 rows\n\n"
     ]
    }
   ],
   "source": [
    "df = spark.read.format(\"parquet\").option(\"inferSchema\", \"true\").load(input_path)\n",
    "df.show(10)"
   ]
  },
  {
   "cell_type": "code",
   "execution_count": 0,
   "metadata": {
    "application/vnd.databricks.v1+cell": {
     "cellMetadata": {
      "byteLimit": 2048000,
      "rowLimit": 10000
     },
     "inputWidgets": {},
     "nuid": "8f84137e-b628-4b4f-8349-8b3d7ed0c866",
     "showTitle": false,
     "title": ""
    }
   },
   "outputs": [],
   "source": [
    "df = df.withColumn(\"ModifiedDate\", date_format(\n",
    "    from_utc_timestamp(df[\"ModifiedDate\"].cast(TimestampType()), \"UTC\"), \"yyyy-MM-dd\"))"
   ]
  },
  {
   "cell_type": "code",
   "execution_count": 0,
   "metadata": {
    "application/vnd.databricks.v1+cell": {
     "cellMetadata": {
      "byteLimit": 2048000,
      "rowLimit": 10000
     },
     "inputWidgets": {},
     "nuid": "fac62ba6-a323-483a-bc0f-45eab2473eee",
     "showTitle": false,
     "title": ""
    }
   },
   "outputs": [
    {
     "output_type": "display_data",
     "data": {
      "text/html": [
       "<style scoped>\n",
       "  .table-result-container {\n",
       "    max-height: 300px;\n",
       "    overflow: auto;\n",
       "  }\n",
       "  table, th, td {\n",
       "    border: 1px solid black;\n",
       "    border-collapse: collapse;\n",
       "  }\n",
       "  th, td {\n",
       "    padding: 5px;\n",
       "  }\n",
       "  th {\n",
       "    text-align: left;\n",
       "  }\n",
       "</style><div class='table-result-container'><table class='table-result'><thead style='background-color: white'><tr><th>AddressID</th><th>AddressLine1</th><th>AddressLine2</th><th>City</th><th>StateProvince</th><th>CountryRegion</th><th>PostalCode</th><th>rowguid</th><th>ModifiedDate</th></tr></thead><tbody><tr><td>9</td><td>8713 Yosemite Ct.</td><td>null</td><td>Bothell</td><td>Washington</td><td>United States</td><td>98011</td><td>268af621-76d7-4c78-9441-144fd139821a</td><td>2006-07-01</td></tr><tr><td>11</td><td>1318 Lasalle Street</td><td>null</td><td>Bothell</td><td>Washington</td><td>United States</td><td>98011</td><td>981b3303-aca2-49c7-9a96-fb670785b269</td><td>2007-04-01</td></tr><tr><td>25</td><td>9178 Jumping St.</td><td>null</td><td>Dallas</td><td>Texas</td><td>United States</td><td>75201</td><td>c8df3bd9-48f0-4654-a8dd-14a67a84d3c6</td><td>2006-09-01</td></tr><tr><td>28</td><td>9228 Via Del Sol</td><td>null</td><td>Phoenix</td><td>Arizona</td><td>United States</td><td>85004</td><td>12ae5ee1-fc3e-468b-9b92-3b970b169774</td><td>2005-09-01</td></tr><tr><td>32</td><td>26910 Indela Road</td><td>null</td><td>Montreal</td><td>Quebec</td><td>Canada</td><td>H1Y 2H5</td><td>84a95f62-3ae8-4e7e-bbd5-5a6f00cd982d</td><td>2006-08-01</td></tr><tr><td>185</td><td>2681 Eagle Peak</td><td>null</td><td>Bellevue</td><td>Washington</td><td>United States</td><td>98004</td><td>7bccf442-2268-46cc-8472-14c44c14e98c</td><td>2006-09-01</td></tr><tr><td>297</td><td>7943 Walnut Ave</td><td>null</td><td>Renton</td><td>Washington</td><td>United States</td><td>98055</td><td>52410da4-2778-4b1d-a599-95746625ce6d</td><td>2006-08-01</td></tr><tr><td>445</td><td>6388 Lake City Way</td><td>null</td><td>Burnaby</td><td>British Columbia</td><td>Canada</td><td>V5A 3A6</td><td>53572f25-9133-4a8b-a065-102ff35416ee</td><td>2006-09-01</td></tr><tr><td>446</td><td>52560 Free Street</td><td>null</td><td>Toronto</td><td>Ontario</td><td>Canada</td><td>M4B 1V7</td><td>801a1dfc-5125-486b-aa84-ccbd2ec57ca4</td><td>2005-08-01</td></tr><tr><td>447</td><td>22580 Free Street</td><td>null</td><td>Toronto</td><td>Ontario</td><td>Canada</td><td>M4B 1V7</td><td>88cee379-dbb8-433b-b84e-a35e09435500</td><td>2006-08-01</td></tr></tbody></table></div>"
      ]
     },
     "metadata": {
      "application/vnd.databricks.v1+output": {
       "addedWidgets": {},
       "aggData": [],
       "aggError": "",
       "aggOverflow": false,
       "aggSchema": [],
       "aggSeriesLimitReached": false,
       "aggType": "",
       "arguments": {},
       "columnCustomDisplayInfos": {},
       "data": [
        [
         9,
         "8713 Yosemite Ct.",
         null,
         "Bothell",
         "Washington",
         "United States",
         "98011",
         "268af621-76d7-4c78-9441-144fd139821a",
         "2006-07-01"
        ],
        [
         11,
         "1318 Lasalle Street",
         null,
         "Bothell",
         "Washington",
         "United States",
         "98011",
         "981b3303-aca2-49c7-9a96-fb670785b269",
         "2007-04-01"
        ],
        [
         25,
         "9178 Jumping St.",
         null,
         "Dallas",
         "Texas",
         "United States",
         "75201",
         "c8df3bd9-48f0-4654-a8dd-14a67a84d3c6",
         "2006-09-01"
        ],
        [
         28,
         "9228 Via Del Sol",
         null,
         "Phoenix",
         "Arizona",
         "United States",
         "85004",
         "12ae5ee1-fc3e-468b-9b92-3b970b169774",
         "2005-09-01"
        ],
        [
         32,
         "26910 Indela Road",
         null,
         "Montreal",
         "Quebec",
         "Canada",
         "H1Y 2H5",
         "84a95f62-3ae8-4e7e-bbd5-5a6f00cd982d",
         "2006-08-01"
        ],
        [
         185,
         "2681 Eagle Peak",
         null,
         "Bellevue",
         "Washington",
         "United States",
         "98004",
         "7bccf442-2268-46cc-8472-14c44c14e98c",
         "2006-09-01"
        ],
        [
         297,
         "7943 Walnut Ave",
         null,
         "Renton",
         "Washington",
         "United States",
         "98055",
         "52410da4-2778-4b1d-a599-95746625ce6d",
         "2006-08-01"
        ],
        [
         445,
         "6388 Lake City Way",
         null,
         "Burnaby",
         "British Columbia",
         "Canada",
         "V5A 3A6",
         "53572f25-9133-4a8b-a065-102ff35416ee",
         "2006-09-01"
        ],
        [
         446,
         "52560 Free Street",
         null,
         "Toronto",
         "Ontario",
         "Canada",
         "M4B 1V7",
         "801a1dfc-5125-486b-aa84-ccbd2ec57ca4",
         "2005-08-01"
        ],
        [
         447,
         "22580 Free Street",
         null,
         "Toronto",
         "Ontario",
         "Canada",
         "M4B 1V7",
         "88cee379-dbb8-433b-b84e-a35e09435500",
         "2006-08-01"
        ]
       ],
       "datasetInfos": [],
       "dbfsResultPath": null,
       "isJsonSchema": true,
       "metadata": {},
       "overflow": false,
       "plotOptions": {
        "customPlotOptions": {},
        "displayType": "table",
        "pivotAggregation": null,
        "pivotColumns": null,
        "xColumns": null,
        "yColumns": null
       },
       "removedWidgets": [],
       "schema": [
        {
         "metadata": "{}",
         "name": "AddressID",
         "type": "\"integer\""
        },
        {
         "metadata": "{}",
         "name": "AddressLine1",
         "type": "\"string\""
        },
        {
         "metadata": "{}",
         "name": "AddressLine2",
         "type": "\"string\""
        },
        {
         "metadata": "{}",
         "name": "City",
         "type": "\"string\""
        },
        {
         "metadata": "{}",
         "name": "StateProvince",
         "type": "\"string\""
        },
        {
         "metadata": "{}",
         "name": "CountryRegion",
         "type": "\"string\""
        },
        {
         "metadata": "{}",
         "name": "PostalCode",
         "type": "\"string\""
        },
        {
         "metadata": "{}",
         "name": "rowguid",
         "type": "\"string\""
        },
        {
         "metadata": "{}",
         "name": "ModifiedDate",
         "type": "\"string\""
        }
       ],
       "type": "table"
      }
     },
     "output_type": "display_data"
    }
   ],
   "source": [
    "display(df.limit(10))"
   ]
  },
  {
   "cell_type": "markdown",
   "metadata": {
    "application/vnd.databricks.v1+cell": {
     "cellMetadata": {},
     "inputWidgets": {},
     "nuid": "1f903a6c-2fb0-49c8-8a72-9d9031581f6c",
     "showTitle": false,
     "title": ""
    }
   },
   "source": [
    "## Doing transformation for all tables"
   ]
  },
  {
   "cell_type": "code",
   "execution_count": 0,
   "metadata": {
    "application/vnd.databricks.v1+cell": {
     "cellMetadata": {
      "byteLimit": 2048000,
      "rowLimit": 10000
     },
     "inputWidgets": {},
     "nuid": "be6c9020-8d92-42da-8c7f-e0815c1332c6",
     "showTitle": false,
     "title": ""
    }
   },
   "outputs": [],
   "source": [
    "table_name = []\n",
    "\n",
    "for i in dbutils.fs.ls(\"mnt/bronze/SalesLT/\"):\n",
    "    table_name.append(i.name.split(\"/\")[0])"
   ]
  },
  {
   "cell_type": "code",
   "execution_count": 0,
   "metadata": {
    "application/vnd.databricks.v1+cell": {
     "cellMetadata": {
      "byteLimit": 2048000,
      "rowLimit": 10000
     },
     "inputWidgets": {},
     "nuid": "e956c0d9-1d68-4b6d-800a-9d910468fec4",
     "showTitle": false,
     "title": ""
    }
   },
   "outputs": [
    {
     "output_type": "stream",
     "name": "stdout",
     "output_type": "stream",
     "text": [
      "Out[25]: ['Address',\n 'Customer',\n 'CustomerAddress',\n 'Product',\n 'ProductCategory',\n 'ProductDescription',\n 'ProductModel',\n 'ProductModelProductDescription',\n 'SalesOrderDetail',\n 'SalesOrderHeader']"
     ]
    }
   ],
   "source": [
    "table_name"
   ]
  },
  {
   "cell_type": "code",
   "execution_count": 0,
   "metadata": {
    "application/vnd.databricks.v1+cell": {
     "cellMetadata": {
      "byteLimit": 2048000,
      "rowLimit": 10000
     },
     "inputWidgets": {},
     "nuid": "fe794b9a-013f-43d7-891c-36c7471bed54",
     "showTitle": false,
     "title": ""
    }
   },
   "outputs": [],
   "source": [
    "for t in table_name:\n",
    "    path = \"/mnt/bronze/SalesLT/\" + t + \"/\"\n",
    "    df = spark.read.format(\"parquet\").load(path)\n",
    "    columns = df.columns\n",
    "\n",
    "    for col in columns:\n",
    "        if \"date\" in col.lower():\n",
    "            df = df.withColumn(col, date_format(\n",
    "                from_utc_timestamp(df[col].cast(TimestampType()), \"UTC\"), \"yyyy-MM-dd\"))\n",
    "\n",
    "    output_path = \"/mnt/silver/SalesLT/\" + t + \"/\"       \n",
    "    df.write.format(\"delta\").mode(\"overwrite\").save(output_path)"
   ]
  },
  {
   "cell_type": "code",
   "execution_count": 0,
   "metadata": {
    "application/vnd.databricks.v1+cell": {
     "cellMetadata": {
      "byteLimit": 2048000,
      "rowLimit": 10000
     },
     "inputWidgets": {},
     "nuid": "8e206879-2947-4011-90f5-8877d1e64500",
     "showTitle": false,
     "title": ""
    }
   },
   "outputs": [
    {
     "output_type": "display_data",
     "data": {
      "text/html": [
       "<style scoped>\n",
       "  .table-result-container {\n",
       "    max-height: 300px;\n",
       "    overflow: auto;\n",
       "  }\n",
       "  table, th, td {\n",
       "    border: 1px solid black;\n",
       "    border-collapse: collapse;\n",
       "  }\n",
       "  th, td {\n",
       "    padding: 5px;\n",
       "  }\n",
       "  th {\n",
       "    text-align: left;\n",
       "  }\n",
       "</style><div class='table-result-container'><table class='table-result'><thead style='background-color: white'><tr><th>SalesOrderID</th><th>RevisionNumber</th><th>OrderDate</th><th>DueDate</th><th>ShipDate</th><th>Status</th><th>OnlineOrderFlag</th><th>SalesOrderNumber</th><th>PurchaseOrderNumber</th><th>AccountNumber</th><th>CustomerID</th><th>ShipToAddressID</th><th>BillToAddressID</th><th>ShipMethod</th><th>CreditCardApprovalCode</th><th>SubTotal</th><th>TaxAmt</th><th>Freight</th><th>TotalDue</th><th>Comment</th><th>rowguid</th><th>ModifiedDate</th></tr></thead><tbody><tr><td>71774</td><td>2</td><td>2008-06-01</td><td>2008-06-13</td><td>2008-06-08</td><td>5</td><td>false</td><td>SO71774</td><td>PO348186287</td><td>10-4020-000609</td><td>29847</td><td>1092</td><td>1092</td><td>CARGO TRANSPORT 5</td><td>null</td><td>880.3484</td><td>70.4279</td><td>22.0087</td><td>972.7850</td><td>null</td><td>89e42cdc-8506-48a2-b89b-eb3e64e3554e</td><td>2008-06-08</td></tr><tr><td>71776</td><td>2</td><td>2008-06-01</td><td>2008-06-13</td><td>2008-06-08</td><td>5</td><td>false</td><td>SO71776</td><td>PO19952192051</td><td>10-4020-000106</td><td>30072</td><td>640</td><td>640</td><td>CARGO TRANSPORT 5</td><td>null</td><td>78.8100</td><td>6.3048</td><td>1.9703</td><td>87.0851</td><td>null</td><td>8a3448c5-e677-4158-a29b-dd33069be0b0</td><td>2008-06-08</td></tr><tr><td>71780</td><td>2</td><td>2008-06-01</td><td>2008-06-13</td><td>2008-06-08</td><td>5</td><td>false</td><td>SO71780</td><td>PO19604173239</td><td>10-4020-000340</td><td>30113</td><td>653</td><td>653</td><td>CARGO TRANSPORT 5</td><td>null</td><td>38418.6895</td><td>3073.4952</td><td>960.4672</td><td>42452.6519</td><td>null</td><td>a47665d2-7ac9-4cf3-8a8b-2a3883554284</td><td>2008-06-08</td></tr><tr><td>71782</td><td>2</td><td>2008-06-01</td><td>2008-06-13</td><td>2008-06-08</td><td>5</td><td>false</td><td>SO71782</td><td>PO19372114749</td><td>10-4020-000582</td><td>29485</td><td>1086</td><td>1086</td><td>CARGO TRANSPORT 5</td><td>null</td><td>39785.3304</td><td>3182.8264</td><td>994.6333</td><td>43962.7901</td><td>null</td><td>f1be45a5-5c57-4a50-93c6-5f8be44cb7cb</td><td>2008-06-08</td></tr><tr><td>71783</td><td>2</td><td>2008-06-01</td><td>2008-06-13</td><td>2008-06-08</td><td>5</td><td>false</td><td>SO71783</td><td>PO19343113609</td><td>10-4020-000024</td><td>29957</td><td>992</td><td>992</td><td>CARGO TRANSPORT 5</td><td>null</td><td>83858.4261</td><td>6708.6741</td><td>2096.4607</td><td>92663.5609</td><td>null</td><td>7db2329e-6446-42a8-8915-9c8370b68ed8</td><td>2008-06-08</td></tr><tr><td>71784</td><td>2</td><td>2008-06-01</td><td>2008-06-13</td><td>2008-06-08</td><td>5</td><td>false</td><td>SO71784</td><td>PO19285135919</td><td>10-4020-000448</td><td>29736</td><td>659</td><td>659</td><td>CARGO TRANSPORT 5</td><td>null</td><td>108561.8317</td><td>8684.9465</td><td>2714.0458</td><td>119960.8240</td><td>null</td><td>ca31f324-2c32-4f8d-95eb-596e7f343027</td><td>2008-06-08</td></tr><tr><td>71796</td><td>2</td><td>2008-06-01</td><td>2008-06-13</td><td>2008-06-08</td><td>5</td><td>false</td><td>SO71796</td><td>PO17052159664</td><td>10-4020-000420</td><td>29660</td><td>1058</td><td>1058</td><td>CARGO TRANSPORT 5</td><td>null</td><td>57634.6342</td><td>4610.7707</td><td>1440.8659</td><td>63686.2708</td><td>null</td><td>917ef5ba-f32d-4563-8588-66db0bcdc846</td><td>2008-06-08</td></tr><tr><td>71797</td><td>2</td><td>2008-06-01</td><td>2008-06-13</td><td>2008-06-08</td><td>5</td><td>false</td><td>SO71797</td><td>PO16501134889</td><td>10-4020-000142</td><td>29796</td><td>642</td><td>642</td><td>CARGO TRANSPORT 5</td><td>null</td><td>78029.6898</td><td>6242.3752</td><td>1950.7422</td><td>86222.8072</td><td>null</td><td>bb3fee84-c8bf-4dd2-bcca-675ab6a11c38</td><td>2008-06-08</td></tr><tr><td>71815</td><td>2</td><td>2008-06-01</td><td>2008-06-13</td><td>2008-06-08</td><td>5</td><td>false</td><td>SO71815</td><td>PO13021155785</td><td>10-4020-000276</td><td>30089</td><td>1034</td><td>1034</td><td>CARGO TRANSPORT 5</td><td>null</td><td>1141.5782</td><td>91.3263</td><td>28.5395</td><td>1261.4440</td><td>null</td><td>2aa5f39b-1096-4a4b-b17b-f10504a397ce</td><td>2008-06-08</td></tr><tr><td>71816</td><td>2</td><td>2008-06-01</td><td>2008-06-13</td><td>2008-06-08</td><td>5</td><td>false</td><td>SO71816</td><td>PO12992180445</td><td>10-4020-000295</td><td>30027</td><td>1038</td><td>1038</td><td>CARGO TRANSPORT 5</td><td>null</td><td>3398.1659</td><td>271.8533</td><td>84.9541</td><td>3754.9733</td><td>null</td><td>e3c189e7-98de-4c40-b6c2-0d1d13f9bb33</td><td>2008-06-08</td></tr></tbody></table></div>"
      ]
     },
     "metadata": {
      "application/vnd.databricks.v1+output": {
       "addedWidgets": {},
       "aggData": [],
       "aggError": "",
       "aggOverflow": false,
       "aggSchema": [],
       "aggSeriesLimitReached": false,
       "aggType": "",
       "arguments": {},
       "columnCustomDisplayInfos": {},
       "data": [
        [
         71774,
         2,
         "2008-06-01",
         "2008-06-13",
         "2008-06-08",
         5,
         false,
         "SO71774",
         "PO348186287",
         "10-4020-000609",
         29847,
         1092,
         1092,
         "CARGO TRANSPORT 5",
         null,
         "880.3484",
         "70.4279",
         "22.0087",
         "972.7850",
         null,
         "89e42cdc-8506-48a2-b89b-eb3e64e3554e",
         "2008-06-08"
        ],
        [
         71776,
         2,
         "2008-06-01",
         "2008-06-13",
         "2008-06-08",
         5,
         false,
         "SO71776",
         "PO19952192051",
         "10-4020-000106",
         30072,
         640,
         640,
         "CARGO TRANSPORT 5",
         null,
         "78.8100",
         "6.3048",
         "1.9703",
         "87.0851",
         null,
         "8a3448c5-e677-4158-a29b-dd33069be0b0",
         "2008-06-08"
        ],
        [
         71780,
         2,
         "2008-06-01",
         "2008-06-13",
         "2008-06-08",
         5,
         false,
         "SO71780",
         "PO19604173239",
         "10-4020-000340",
         30113,
         653,
         653,
         "CARGO TRANSPORT 5",
         null,
         "38418.6895",
         "3073.4952",
         "960.4672",
         "42452.6519",
         null,
         "a47665d2-7ac9-4cf3-8a8b-2a3883554284",
         "2008-06-08"
        ],
        [
         71782,
         2,
         "2008-06-01",
         "2008-06-13",
         "2008-06-08",
         5,
         false,
         "SO71782",
         "PO19372114749",
         "10-4020-000582",
         29485,
         1086,
         1086,
         "CARGO TRANSPORT 5",
         null,
         "39785.3304",
         "3182.8264",
         "994.6333",
         "43962.7901",
         null,
         "f1be45a5-5c57-4a50-93c6-5f8be44cb7cb",
         "2008-06-08"
        ],
        [
         71783,
         2,
         "2008-06-01",
         "2008-06-13",
         "2008-06-08",
         5,
         false,
         "SO71783",
         "PO19343113609",
         "10-4020-000024",
         29957,
         992,
         992,
         "CARGO TRANSPORT 5",
         null,
         "83858.4261",
         "6708.6741",
         "2096.4607",
         "92663.5609",
         null,
         "7db2329e-6446-42a8-8915-9c8370b68ed8",
         "2008-06-08"
        ],
        [
         71784,
         2,
         "2008-06-01",
         "2008-06-13",
         "2008-06-08",
         5,
         false,
         "SO71784",
         "PO19285135919",
         "10-4020-000448",
         29736,
         659,
         659,
         "CARGO TRANSPORT 5",
         null,
         "108561.8317",
         "8684.9465",
         "2714.0458",
         "119960.8240",
         null,
         "ca31f324-2c32-4f8d-95eb-596e7f343027",
         "2008-06-08"
        ],
        [
         71796,
         2,
         "2008-06-01",
         "2008-06-13",
         "2008-06-08",
         5,
         false,
         "SO71796",
         "PO17052159664",
         "10-4020-000420",
         29660,
         1058,
         1058,
         "CARGO TRANSPORT 5",
         null,
         "57634.6342",
         "4610.7707",
         "1440.8659",
         "63686.2708",
         null,
         "917ef5ba-f32d-4563-8588-66db0bcdc846",
         "2008-06-08"
        ],
        [
         71797,
         2,
         "2008-06-01",
         "2008-06-13",
         "2008-06-08",
         5,
         false,
         "SO71797",
         "PO16501134889",
         "10-4020-000142",
         29796,
         642,
         642,
         "CARGO TRANSPORT 5",
         null,
         "78029.6898",
         "6242.3752",
         "1950.7422",
         "86222.8072",
         null,
         "bb3fee84-c8bf-4dd2-bcca-675ab6a11c38",
         "2008-06-08"
        ],
        [
         71815,
         2,
         "2008-06-01",
         "2008-06-13",
         "2008-06-08",
         5,
         false,
         "SO71815",
         "PO13021155785",
         "10-4020-000276",
         30089,
         1034,
         1034,
         "CARGO TRANSPORT 5",
         null,
         "1141.5782",
         "91.3263",
         "28.5395",
         "1261.4440",
         null,
         "2aa5f39b-1096-4a4b-b17b-f10504a397ce",
         "2008-06-08"
        ],
        [
         71816,
         2,
         "2008-06-01",
         "2008-06-13",
         "2008-06-08",
         5,
         false,
         "SO71816",
         "PO12992180445",
         "10-4020-000295",
         30027,
         1038,
         1038,
         "CARGO TRANSPORT 5",
         null,
         "3398.1659",
         "271.8533",
         "84.9541",
         "3754.9733",
         null,
         "e3c189e7-98de-4c40-b6c2-0d1d13f9bb33",
         "2008-06-08"
        ]
       ],
       "datasetInfos": [],
       "dbfsResultPath": null,
       "isJsonSchema": true,
       "metadata": {},
       "overflow": false,
       "plotOptions": {
        "customPlotOptions": {},
        "displayType": "table",
        "pivotAggregation": null,
        "pivotColumns": null,
        "xColumns": null,
        "yColumns": null
       },
       "removedWidgets": [],
       "schema": [
        {
         "metadata": "{}",
         "name": "SalesOrderID",
         "type": "\"integer\""
        },
        {
         "metadata": "{}",
         "name": "RevisionNumber",
         "type": "\"integer\""
        },
        {
         "metadata": "{}",
         "name": "OrderDate",
         "type": "\"string\""
        },
        {
         "metadata": "{}",
         "name": "DueDate",
         "type": "\"string\""
        },
        {
         "metadata": "{}",
         "name": "ShipDate",
         "type": "\"string\""
        },
        {
         "metadata": "{}",
         "name": "Status",
         "type": "\"integer\""
        },
        {
         "metadata": "{}",
         "name": "OnlineOrderFlag",
         "type": "\"boolean\""
        },
        {
         "metadata": "{}",
         "name": "SalesOrderNumber",
         "type": "\"string\""
        },
        {
         "metadata": "{}",
         "name": "PurchaseOrderNumber",
         "type": "\"string\""
        },
        {
         "metadata": "{}",
         "name": "AccountNumber",
         "type": "\"string\""
        },
        {
         "metadata": "{}",
         "name": "CustomerID",
         "type": "\"integer\""
        },
        {
         "metadata": "{}",
         "name": "ShipToAddressID",
         "type": "\"integer\""
        },
        {
         "metadata": "{}",
         "name": "BillToAddressID",
         "type": "\"integer\""
        },
        {
         "metadata": "{}",
         "name": "ShipMethod",
         "type": "\"string\""
        },
        {
         "metadata": "{}",
         "name": "CreditCardApprovalCode",
         "type": "\"string\""
        },
        {
         "metadata": "{}",
         "name": "SubTotal",
         "type": "\"decimal(19,4)\""
        },
        {
         "metadata": "{}",
         "name": "TaxAmt",
         "type": "\"decimal(19,4)\""
        },
        {
         "metadata": "{}",
         "name": "Freight",
         "type": "\"decimal(19,4)\""
        },
        {
         "metadata": "{}",
         "name": "TotalDue",
         "type": "\"decimal(19,4)\""
        },
        {
         "metadata": "{}",
         "name": "Comment",
         "type": "\"string\""
        },
        {
         "metadata": "{}",
         "name": "rowguid",
         "type": "\"string\""
        },
        {
         "metadata": "{}",
         "name": "ModifiedDate",
         "type": "\"string\""
        }
       ],
       "type": "table"
      }
     },
     "output_type": "display_data"
    }
   ],
   "source": [
    "display(df.limit(10))"
   ]
  },
  {
   "cell_type": "code",
   "execution_count": 0,
   "metadata": {
    "application/vnd.databricks.v1+cell": {
     "cellMetadata": {},
     "inputWidgets": {},
     "nuid": "29dc8b17-f23e-47ea-b66c-1b04d8a50aba",
     "showTitle": false,
     "title": ""
    }
   },
   "outputs": [],
   "source": []
  }
 ],
 "metadata": {
  "application/vnd.databricks.v1+notebook": {
   "dashboards": [],
   "language": "python",
   "notebookMetadata": {
    "pythonIndentUnit": 4
   },
   "notebookName": "bronze to silver",
   "widgets": {}
  }
 },
 "nbformat": 4,
 "nbformat_minor": 0
}
